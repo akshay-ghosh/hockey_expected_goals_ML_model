{
 "cells": [
  {
   "cell_type": "code",
   "execution_count": 1,
   "id": "6903f100",
   "metadata": {},
   "outputs": [],
   "source": [
    "%matplotlib inline\n",
    "# IMPORTS\n",
    "\n",
    "import numpy as np\n",
    "import pandas as pd\n",
    "import matplotlib.pyplot as plt\n",
    "import scipy.stats as stats\n",
    "\n",
    "# KDE stuff\n",
    "# from sklearn.neighbors import KernelDensity\n",
    "# from sklearn.model_selection import GridSearchCV\n",
    "# from sklearn.model_selection import LeaveOneOut\n",
    "\n",
    "# from sklearn.ensemble import RandomForestRegressor\n",
    "from sklearn.metrics import mean_absolute_error\n",
    "from sklearn.model_selection import train_test_split\n",
    "\n",
    "from xgboost import XGBRegressor\n",
    "\n",
    "# import eli5\n",
    "# from eli5.sklearn import PermutationImportance\n",
    "\n",
    "# import graphviz\n",
    "# from sklearn import tree\n",
    "# from sklearn.inspection import PartialDependenceDisplay"
   ]
  },
  {
   "cell_type": "markdown",
   "id": "044ee46a",
   "metadata": {},
   "source": [
    "First we import the shot data for the 2022-23 NHL season. The data is from moneypuck.com. Each row corresponds to one shot taken during the season, so all shots are included. The dataframe has been modified to include the defending team, and \"real game ID\". All of the column names can be printed along with their first value to get an idea of what the data looks like. All rows corresponding to playoff games and shots against empty nets are removed."
   ]
  },
  {
   "cell_type": "code",
   "execution_count": 2,
   "id": "6de1d15f",
   "metadata": {},
   "outputs": [],
   "source": [
    "# DATA\n",
    "\n",
    "fn = '/Users/akshayghosh/hockey/hockey_kde/data/shots_2022_modified.csv'\n",
    "\n",
    "df = pd.read_csv(fn)\n",
    "df.describe()\n",
    "  \n",
    "# for col in df.keys():print('{:<50}  {:>50}'.format(col , df[col][0]))\n",
    "    \n",
    "df = df[df['isPlayoffGame'] == 0] # select only regular season\n",
    "df = df[df['shotOnEmptyNet'] == 0] # discard shots on empty nets"
   ]
  },
  {
   "cell_type": "markdown",
   "id": "6d1fc0d6",
   "metadata": {},
   "source": [
    "The target variable to predict (aka the label) is xGoal, which is the probability of that shot resulting in a goal by MoneyPuck. Right now the features are very simple, just the distance and absolute value of the shot angle. My initial goal was to make my model as simple as possible, and possibly add more features later. I believe that the most important factors in the quality of a shot are the distance and angle, where closer and towards the middle is the ideal shot location.\n",
    "\n",
    "The MoneyPuck model is explained here: https://moneypuck.com/about.htm#shotModel\n",
    "And is as follows (from their website):\n",
    "\n",
    "Shot Prediction Expected Goals Model\n",
    "\n",
    "\"This model predicts the probability of each shot being a goal. Factors such as the distance from the net, angle of the shot, type of shot, and what happened before the shot are key factors in the model. This model was built on over 50,000 goals and 800,000 shots in NHL regular season and playoff games from the 2007-2008 to 2014-2015 season with location data. By adding up all the probabilities of a team's shots during a game, we can calculate the team's expected goals in that game. The model was built using gradient boosting. MoneyPuck's expected goals model uses a different variable strategy than other expected goals like from Corsica Hockey or HockeyGraphs.com. The MoneyPuck expected goals model does not explicitly use variables for rebounds or rush shots. Rather, it looks at the 'speed' between events: The distance on the ice between the shot and the event before it divided by the amount of time that's elapsed. Also, for rebound shots the model looks at the change in angle between the shots divided by the amount of time between the two shots. The illustrations below describe how the speed variables are created.\""
   ]
  },
  {
   "cell_type": "code",
   "execution_count": 3,
   "id": "6db85238",
   "metadata": {},
   "outputs": [],
   "source": [
    "'''\n",
    "set up features and labels\n",
    "\n",
    "want to predict: xGoal\n",
    "features to use: []\n",
    "'''\n",
    "\n",
    "y = df.xGoal\n",
    "\n",
    "features = ['shotDistance','shotAngleAdjusted']\n",
    "X = df[features]\n",
    "\n",
    "# split into training and validation\n",
    "X_train, X_val, y_train, y_val = train_test_split(X, y, test_size=0.2, random_state=42)"
   ]
  },
  {
   "cell_type": "markdown",
   "id": "9c9f2633",
   "metadata": {},
   "source": [
    "This is where we set up the model, using a gradient boost. You can also see the Random Forest Regressor which I previously used. The mean absolute error is printed. The predictions of goal probability are applied to all rows, to compare against the moneypuck probabilities."
   ]
  },
  {
   "cell_type": "code",
   "execution_count": 4,
   "id": "4e5eb89a",
   "metadata": {},
   "outputs": [
    {
     "name": "stdout",
     "output_type": "stream",
     "text": [
      "MAE = 0.0322\n"
     ]
    }
   ],
   "source": [
    "# PREDICT XGOAL\n",
    "\n",
    "# forest_model = RandomForestRegressor(random_state = 1)# define model\n",
    "\n",
    "forest_model = XGBRegressor(n_estimators=1000, learning_rate=0.05, n_jobs=4)\n",
    "\n",
    "forest_model.fit(X_train, y_train) # fit with training data\n",
    "# forest_model.fit(X, y) # fit with training data\n",
    "# pred_xgoal = forest_model.predict(X_val) # make prediction with val data\n",
    "pred_xgoal = forest_model.predict(X) # make prediction with ALL data\n",
    "\n",
    "MAE = mean_absolute_error(pred_xgoal, y)\n",
    "print(f'MAE = {round(MAE,4)}')\n",
    "\n",
    "# print(np.shape(pred_xgoal))\n",
    "# print(np.shape(y))"
   ]
  },
  {
   "cell_type": "markdown",
   "id": "b4e08ee5",
   "metadata": {},
   "source": [
    "This is looking at the total \"expected goals\" according to the money puck data. This is done by summing the probability of xGoal for every shot."
   ]
  },
  {
   "cell_type": "code",
   "execution_count": 5,
   "id": "0c4a9d81",
   "metadata": {},
   "outputs": [
    {
     "name": "stdout",
     "output_type": "stream",
     "text": [
      "PLAYER                              xGOALS (MP)\n",
      "-------------------------------------------------\n",
      "Zach Hyman                          47.899\n",
      "Brady Tkachuk                       44.993\n",
      "John Tavares                        43.993\n",
      "Matthew Tkachuk                     43.512\n",
      "Connor McDavid                      41.553\n",
      "David Pastrnak                      39.592\n",
      "Timo Meier                          38.239\n",
      "Brayden Point                       38.149\n",
      "Auston Matthews                     37.683\n",
      "Anders Lee                          35.443\n",
      "Sebastian Aho                       34.369\n",
      "Chris Kreider                       34.355\n",
      "Tage Thompson                       34.331\n",
      "Leon Draisaitl                      33.893\n",
      "Nico Hischier                       33.436\n",
      "Kirill Kaprizov                     33.361\n",
      "Jake Guentzel                       33.333\n",
      "Drake Batherson                     33.205\n",
      "Mikko Rantanen                      32.651\n",
      "Rickard Rakell                      32.459\n"
     ]
    }
   ],
   "source": [
    "'''\n",
    "use col 'shooterName' to find who had highest xGoal last year (to compare my model against)\n",
    "'''\n",
    "\n",
    "# group by 'shooterName' and sum up 'xGoal' values\n",
    "grouped = df.groupby('shooterName')['xGoal'].sum()\n",
    "\n",
    "# sort the grouped series in descending order\n",
    "sorted_grouped = grouped.sort_values(ascending=False)\n",
    "\n",
    "# print out the top 30 shooterName values and their cumulative xGoal\n",
    "top_30 = sorted_grouped.head(20)\n",
    "\n",
    "print('PLAYER                              xGOALS (MP)')\n",
    "print('-------------------------------------------------')\n",
    "for shooter, xGoal in top_30.items():\n",
    "    print('{:<25}  {:>15}'.format(shooter, round(xGoal,3)))"
   ]
  },
  {
   "cell_type": "markdown",
   "id": "3875b65d",
   "metadata": {},
   "source": [
    "It is interesting that Zach Hyman and Brady Tkachuk lead in expected goals, outperforming noted exceptional goal scorers such as McDavid, Pastrnak, Matthews, Ovechkin, and Draisaitl. Brady and Hyman both play similar styles where they like to stay around close to the net and jam at pucks. This could result in a higher expected goals than actual goals."
   ]
  },
  {
   "cell_type": "code",
   "execution_count": 6,
   "id": "11a6cc3a",
   "metadata": {},
   "outputs": [
    {
     "name": "stdout",
     "output_type": "stream",
     "text": [
      "shooterName             MP: cumulative xGoal    Goals - xGoals\n",
      "------------------------------------------------------------\n",
      "Zach Hyman                          47.899          -16.899\n",
      "Seth Jarvis                         25.209          -11.209\n",
      "Drake Batherson                     33.205          -11.205\n",
      "Brady Tkachuk                       44.993          -10.993\n",
      "Blake Coleman                       24.465          -10.465\n",
      "Joel Eriksson Ek                     30.41            -9.41\n",
      "Tanner Jeannot                      14.383           -9.383\n",
      "Stefan Noesen                       21.372           -9.372\n",
      "John Tavares                        43.993           -8.993\n",
      "Michael Eyssimont                   13.366           -8.366\n",
      "Mikael Granlund                     16.092           -8.092\n",
      "Cole Sillinger                      11.062           -8.062\n",
      "Zach Parise                         25.035           -8.035\n",
      "Quinton Byfield                     10.029           -8.029\n",
      "William Karlsson                    19.915           -7.915\n",
      "Jesse Puljujarvi                    12.712           -7.712\n",
      "Bryan Rust                          25.708           -7.708\n",
      "Casey Cizikas                       13.669           -7.669\n",
      "Vincent Trocheck                     27.65            -7.65\n",
      "Sam Reinhart                        32.444           -7.444\n",
      "\n",
      "shooterName             MP: cumulative xGoal    Goals - xGoals\n",
      "------------------------------------------------------------\n",
      "Jared McCann                        20.364           19.636\n",
      "Leon Draisaitl                      33.893           18.107\n",
      "Connor McDavid                      41.553           17.447\n",
      "David Pastrnak                      39.592           17.408\n",
      "Mikko Rantanen                      32.651           17.349\n",
      "Jason Robertson                     28.036           14.964\n",
      "Andrei Kuzmenko                       22.7             14.3\n",
      "Tage Thompson                       34.331           12.669\n",
      "Erik Karlsson                       12.423           12.577\n",
      "Artemi Panarin                      16.816           12.184\n",
      "Brayden Point                       38.149           11.851\n",
      "Adrian Kempe                         26.73            11.27\n",
      "Jordan Kyrou                         25.13            10.87\n",
      "Mark Scheifele                       29.33            10.67\n",
      "Clayton Keller                      22.402           10.598\n",
      "Cole Caufield                       15.464           10.536\n",
      "Pavel Buchnevich                    15.624           10.376\n",
      "Mitchell Marner                      17.67            10.33\n",
      "Nathan MacKinnon                    29.801           10.199\n",
      "Claude Giroux                       23.937           10.063\n"
     ]
    }
   ],
   "source": [
    "grouped = df.groupby('shooterName').agg({'xGoal': 'sum', 'goal': 'sum', 'shotGeneratedRebound': 'sum' , 'shooterName': 'count'})\n",
    "grouped['goal_residual'] = grouped['goal'] - grouped['xGoal'] # add new col that is total goals - xgoals\n",
    "\n",
    "# plt.figure(dpi = 150)\n",
    "# plt.title('MP Model')\n",
    "# plt.xlabel('Goals - xGoals')\n",
    "# plt.hist(grouped.goal_residual,bins = 80,edgecolor='black')\n",
    "# plt.show()\n",
    "\n",
    "\n",
    "# print biggest discrepencies between goals and xgoals\n",
    "sorted_grouped = grouped.sort_values(by='goal_residual', ascending=True)\n",
    "\n",
    "# print out the top 30 shooterName values, their cumulative xGoal, and sum of 'goal'\n",
    "print('shooterName             MP: cumulative xGoal    Goals - xGoals')\n",
    "print('------------------------------------------------------------')\n",
    "for index, row in sorted_grouped.head(20).iterrows():\n",
    "    print('{:<25}  {:>15}  {:>15}'.format(index, round(row['xGoal'],3), round(row['goal_residual'],3)))\n",
    "    \n",
    "print()\n",
    "    \n",
    "print('shooterName             MP: cumulative xGoal    Goals - xGoals')\n",
    "print('------------------------------------------------------------')\n",
    "for index, row in sorted_grouped.tail(20)[::-1].iterrows():\n",
    "    print('{:<25}  {:>15}  {:>15}'.format(index, round(row['xGoal'],3), round(row['goal_residual'],3)))"
   ]
  },
  {
   "cell_type": "markdown",
   "id": "ba1708b3",
   "metadata": {},
   "source": [
    "Here we see the largest discrepancies between expected and actual goals, both ways. Different discrepancies could be for different reasons. I will comment on the 2 Sens players in the top 4. I am just guessing, but I think Brady Tkachuk plays a game style that will naturally result in a very high expected number of goals. Whereas Batherson did seem to be rather \"snake-bitten\" or \"unlucky\" this season."
   ]
  },
  {
   "cell_type": "code",
   "execution_count": 7,
   "id": "36802591",
   "metadata": {},
   "outputs": [
    {
     "name": "stdout",
     "output_type": "stream",
     "text": [
      "shooterName             AG: cumulative xGoal    Goals - xGoals\n",
      "------------------------------------------------------------\n",
      "Zach Hyman                          46.991          -15.991\n",
      "Brady Tkachuk                       47.943          -13.943\n",
      "Seth Jarvis                         26.216          -12.216\n",
      "Vincent Trocheck                    32.076          -12.076\n",
      "Stefan Noesen                       23.472          -11.472\n",
      "Joel Eriksson Ek                    32.285          -11.285\n",
      "Blake Coleman                       25.069          -11.069\n",
      "John Tavares                        46.006          -11.006\n",
      "Michael Eyssimont                   15.059          -10.059\n",
      "Bryan Rust                          28.057          -10.057\n",
      "Tanner Jeannot                      14.799           -9.799\n",
      "Jordan Martinook                    20.532           -9.532\n",
      "William Karlsson                    21.232           -9.232\n",
      "Quinton Byfield                     11.193           -9.193\n",
      "Zach Parise                         25.574           -8.574\n",
      "Jesse Puljujarvi                    13.437           -8.437\n",
      "Casey Cizikas                       14.364           -8.364\n",
      "Tomas Hertl                         28.111           -8.111\n",
      "Andrew Mangiapane                   24.942           -7.942\n",
      "Drake Batherson                     29.879           -7.879\n",
      "\n",
      "shooterName             AG: cumulative xGoal    Goals - xGoals\n",
      "------------------------------------------------------------\n",
      "Leon Draisaitl                      25.983           26.017\n",
      "David Pastrnak                      33.988           23.012\n",
      "Jared McCann                        18.221           21.779\n",
      "Connor McDavid                      40.469           18.531\n",
      "Mikko Rantanen                      31.542           18.458\n",
      "Tage Thompson                       29.622           17.378\n",
      "Jason Robertson                     27.684           15.316\n",
      "Adrian Kempe                        22.782           15.218\n",
      "Mika Zibanejad                      23.593           14.407\n",
      "Andrei Kuzmenko                     22.788           14.212\n",
      "Brayden Point                       35.971           14.029\n",
      "Erik Karlsson                       11.003           13.997\n",
      "Claude Giroux                       20.977           13.023\n",
      "Victor Olofsson                     12.157           12.843\n",
      "Cole Caufield                       13.623           12.377\n",
      "Jordan Kyrou                        23.928           12.072\n",
      "Clayton Keller                      21.045           11.955\n",
      "Mark Scheifele                      28.697           11.303\n",
      "Artemi Panarin                      17.898           11.102\n",
      "Carter Verhaeghe                     27.92            11.08\n"
     ]
    }
   ],
   "source": [
    "'''\n",
    "add the calculated xgoal to the dataframe and compare\n",
    "'''\n",
    "\n",
    "df['pred_xgoal'] = pred_xgoal\n",
    "\n",
    "# for col in df.keys():print('{:<50}  {:>50}'.format(col , df[col][0]))\n",
    "\n",
    "grouped_pred = df.groupby('shooterName').agg({'xGoal': 'sum', 'goal': 'sum', 'pred_xgoal': 'sum'})\n",
    "grouped_pred['goal_residual'] = grouped_pred['goal'] - grouped_pred['xGoal']\n",
    "grouped_pred['pred_goal_residual'] = grouped_pred['goal'] - grouped_pred['pred_xgoal'] # add new col that is total goals - xgoals\n",
    "grouped_pred['residual_difference'] = grouped_pred['pred_goal_residual'] - grouped_pred['goal_residual']\n",
    "    \n",
    "    \n",
    "# print biggest discrepencies between goals and xgoals\n",
    "sorted_grouped_pred = grouped_pred.sort_values(by='pred_goal_residual', ascending=True)\n",
    "\n",
    "# print out the top 30 shooterName values, their cumulative xGoal, and sum of 'goal'\n",
    "print('shooterName             AG: cumulative xGoal    Goals - xGoals')\n",
    "print('------------------------------------------------------------')\n",
    "for index, row in sorted_grouped_pred.head(20).iterrows():\n",
    "    print('{:<25}  {:>15}  {:>15}'.format(index, round(row['pred_xgoal'],3), round(row['pred_goal_residual'],3)))\n",
    "    \n",
    "print()\n",
    "    \n",
    "print('shooterName             AG: cumulative xGoal    Goals - xGoals')\n",
    "print('------------------------------------------------------------')\n",
    "for index, row in sorted_grouped_pred.tail(20)[::-1].iterrows():\n",
    "    print('{:<25}  {:>15}  {:>15}'.format(index, round(row['pred_xgoal'],3), round(row['pred_goal_residual'],3)))"
   ]
  },
  {
   "cell_type": "markdown",
   "id": "6f9f6e09",
   "metadata": {},
   "source": [
    "Now for the results of my model using just shot distance and (the absolute value of) shot angle. Hyman and Brady Tkachuk still have their expected goals overestimated. Draisaitl, Pastrnak, and Mcdavid still have their expected goals underestimated. Overall, my model performs similarly to the MoneyPuck model for this dataset, but is much more simple."
   ]
  },
  {
   "cell_type": "code",
   "execution_count": 8,
   "id": "c85c334e",
   "metadata": {},
   "outputs": [
    {
     "data": {
      "image/png": "[encoded data removed]",
      "text/plain": [
       "<Figure size 900x600 with 1 Axes>"
      ]
     },
     "metadata": {},
     "output_type": "display_data"
    }
   ],
   "source": [
    "plt.figure(dpi = 150)\n",
    "plt.title('Comparing models')\n",
    "plt.xlabel('Goals - xGoals')\n",
    "plt.hist(sorted_grouped_pred.pred_goal_residual,bins = 80,edgecolor='black',histtype = 'step',label = 'AG')\n",
    "plt.hist(grouped.goal_residual,bins = 80,edgecolor='red',histtype = 'step',label = 'MP')\n",
    "plt.legend()\n",
    "plt.show()"
   ]
  },
  {
   "cell_type": "markdown",
   "id": "a529261b",
   "metadata": {},
   "source": [
    "Here we compare the spread of the discrepancies between goals and expected goals, of my model (black line), versus the MoneyPuck model (red line). We can see that the distributions are similar."
   ]
  },
  {
   "cell_type": "code",
   "execution_count": 9,
   "id": "d79cbb83",
   "metadata": {},
   "outputs": [
    {
     "name": "stdout",
     "output_type": "stream",
     "text": [
      "DescribeResult(nobs=939, minmax=(-16.899072269999998, 19.63611216), mean=-0.21026038839190622, variance=12.27154132784601, skewness=1.058824031052149, kurtosis=5.869089488295035)\n",
      "DescribeResult(nobs=939, minmax=(-15.99087905883789, 26.017427444458008), mean=-0.20029445838369628, variance=15.624969102126347, skewness=1.4153605216139018, kurtosis=7.33646425953107)\n",
      "\n",
      "STATS:\n",
      "          MP          AG\n",
      "Mean:   -0.21026 -0.20029\n",
      "Stddev:  3.50308 3.95284\n"
     ]
    }
   ],
   "source": [
    "stats_mp = stats.describe(sorted_grouped_pred['goal_residual'])\n",
    "stats_ag = stats.describe(sorted_grouped_pred['pred_goal_residual'])\n",
    "\n",
    "print(stats_mp)\n",
    "print(stats_ag)\n",
    "print()\n",
    "print('STATS:')\n",
    "print('          MP          AG')\n",
    "print('Mean:  ',round(np.mean(sorted_grouped_pred['goal_residual']),5),round(np.mean(sorted_grouped_pred['pred_goal_residual']),5))\n",
    "print('Stddev: ',round(np.std(sorted_grouped_pred['goal_residual'],ddof = 1),5),round(np.std(sorted_grouped_pred['pred_goal_residual'],ddof = 1),5))"
   ]
  },
  {
   "cell_type": "markdown",
   "id": "dfe6d5f1",
   "metadata": {},
   "source": [
    "## FINAL NOTES\n",
    "\n",
    "Overall, my model and the MoneyPuck model perform similarly. After this analysis, I have two predictions for the 2023-24 season:\n",
    "\n",
    "1. Seth Jarvis will see an increase in goal production, and score 30 or more goals.\n",
    "2. Jared McCann will regress and score 20 or less goals."
   ]
  }
 ],
 "metadata": {
  "kernelspec": {
   "display_name": "Python 3 (Spyder)",
   "language": "python3",
   "name": "python3"
  },
  "language_info": {
   "codemirror_mode": {
    "name": "ipython",
    "version": 3
   },
   "file_extension": ".py",
   "mimetype": "text/x-python",
   "name": "python",
   "nbconvert_exporter": "python",
   "pygments_lexer": "ipython3",
   "version": "3.10.10"
  }
 },
 "nbformat": 4,
 "nbformat_minor": 5
}

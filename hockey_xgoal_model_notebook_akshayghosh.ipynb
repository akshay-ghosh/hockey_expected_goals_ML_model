{
 "cells": [
  {
   "cell_type": "code",
   "execution_count": 1,
   "id": "f8a41b6c",
   "metadata": {},
   "outputs": [],
   "source": [
    "%matplotlib inline\n",
    "# IMPORTS\n",
    "\n",
    "import numpy as np\n",
    "import pandas as pd\n",
    "import matplotlib.pyplot as plt\n",
    "import scipy.stats as stats\n",
    "\n",
    "# KDE stuff\n",
    "# from sklearn.neighbors import KernelDensity\n",
    "# from sklearn.model_selection import GridSearchCV\n",
    "# from sklearn.model_selection import LeaveOneOut\n",
    "\n",
    "# from sklearn.ensemble import RandomForestRegressor\n",
    "from sklearn.metrics import mean_absolute_error\n",
    "from sklearn.model_selection import train_test_split\n",
    "\n",
    "from xgboost import XGBRegressor\n",
    "\n",
    "# import eli5\n",
    "# from eli5.sklearn import PermutationImportance\n",
    "\n",
    "# import graphviz\n",
    "# from sklearn import tree\n",
    "from sklearn.inspection import PartialDependenceDisplay"
   ]
  },
  {
   "cell_type": "markdown",
   "id": "887ae012",
   "metadata": {},
   "source": [
    "First we import the shot data for the 2022-23 NHL season. The data is from moneypuck.com. Each row corresponds to one shot taken during the season, so all shots are included. The dataframe has been modified to include the defending team, and \"real game ID\". All of the column names can be printed along with their first value to get an idea of what the data looks like. All rows corresponding to playoff games and shots against empty nets are removed."
   ]
  },
  {
   "cell_type": "code",
   "execution_count": 2,
   "id": "dda7972a",
   "metadata": {},
   "outputs": [],
   "source": [
    "# DATA\n",
    "\n",
    "fn = '/Users/akshayghosh/hockey/hockey_kde/data/shots_2022_modified.csv'\n",
    "\n",
    "df = pd.read_csv(fn)\n",
    "df.describe()\n",
    "  \n",
    "# for col in df.keys():print('{:<50}  {:>50}'.format(col , df[col][0]))\n",
    "    \n",
    "df = df[df['isPlayoffGame'] == 0] # select only regular season\n",
    "df = df[df['shotOnEmptyNet'] == 0] # discard shots on empty nets"
   ]
  },
  {
   "cell_type": "markdown",
   "id": "353bceb4",
   "metadata": {},
   "source": [
    "The target variable to predict (aka the label) is goal, which is set to 1 if the shot is a goal and 0 if the shot is not a goal. There is also a probability calculated by MoneyPuck, which I will compare my results to. Right now the features are very simple, just the distance and absolute value of the shot angle. My initial goal was to make my model as simple as possible, and possibly add more features later. I believe that the most important factors in the quality of a shot are the distance and angle, where closer and towards the middle is the ideal shot location.\n",
    "\n",
    "The MoneyPuck model is explained here: https://moneypuck.com/about.htm#shotModel\n",
    "And is as follows (from their website):\n",
    "\n",
    "Shot Prediction Expected Goals Model\n",
    "\n",
    "\"This model predicts the probability of each shot being a goal. Factors such as the distance from the net, angle of the shot, type of shot, and what happened before the shot are key factors in the model. This model was built on over 50,000 goals and 800,000 shots in NHL regular season and playoff games from the 2007-2008 to 2014-2015 season with location data. By adding up all the probabilities of a team's shots during a game, we can calculate the team's expected goals in that game. The model was built using gradient boosting. MoneyPuck's expected goals model uses a different variable strategy than other expected goals like from Corsica Hockey or HockeyGraphs.com. The MoneyPuck expected goals model does not explicitly use variables for rebounds or rush shots. Rather, it looks at the 'speed' between events: The distance on the ice between the shot and the event before it divided by the amount of time that's elapsed. Also, for rebound shots the model looks at the change in angle between the shots divided by the amount of time between the two shots. The illustrations below describe how the speed variables are created.\""
   ]
  },
  {
   "cell_type": "code",
   "execution_count": 3,
   "id": "4a29085c",
   "metadata": {},
   "outputs": [],
   "source": [
    "'''\n",
    "set up features and labels\n",
    "\n",
    "want to predict: xGoal\n",
    "features to use: []\n",
    "'''\n",
    "\n",
    "y = df.goal\n",
    "\n",
    "features = ['shotDistance','shotAngleAdjusted']\n",
    "X = df[features]\n",
    "\n",
    "# split into training and validation\n",
    "X_train, X_val, y_train, y_val = train_test_split(X, y, test_size=0.2, random_state=42)"
   ]
  },
  {
   "cell_type": "markdown",
   "id": "52b76d7e",
   "metadata": {},
   "source": [
    "This is where we set up the model, using a gradient boost. You can also see the Random Forest Regressor which I previously used. The mean absolute error is printed. The predictions of goal probability are applied to all rows, to compare against the moneypuck probabilities."
   ]
  },
  {
   "cell_type": "code",
   "execution_count": 4,
   "id": "8ff49a49",
   "metadata": {},
   "outputs": [
    {
     "name": "stdout",
     "output_type": "stream",
     "text": [
      "MAE = 0.1214\n"
     ]
    }
   ],
   "source": [
    "# PREDICT XGOAL\n",
    "\n",
    "# forest_model = RandomForestRegressor(random_state = 1)# define model\n",
    "\n",
    "forest_model = XGBRegressor(n_estimators=1000, learning_rate=0.05, n_jobs=4)\n",
    "\n",
    "forest_model.fit(X_train, y_train) # fit with training data\n",
    "# forest_model.fit(X, y) # fit with training data\n",
    "# pred_xgoal = forest_model.predict(X_val) # make prediction with val data\n",
    "pred_xgoal = forest_model.predict(X) # make prediction with ALL data\n",
    "\n",
    "MAE = mean_absolute_error(pred_xgoal, y)\n",
    "print(f'MAE = {round(MAE,4)}')\n",
    "\n",
    "# print(np.shape(pred_xgoal))\n",
    "# print(np.shape(y))"
   ]
  },
  {
   "cell_type": "code",
   "execution_count": null,
   "id": "e8118316",
   "metadata": {},
   "outputs": [
    {
     "data": {
      "image/png": "[encoded data removed]",
      "text/plain": [
       "<Figure size 432x288 with 2 Axes>"
      ]
     },
     "metadata": {},
     "output_type": "display_data"
    }
   ],
   "source": [
    "for feat_name in features:\n",
    "    PartialDependenceDisplay.from_estimator(forest_model, X, [feat_name])\n",
    "    plt.show()"
   ]
  },
  {
   "cell_type": "markdown",
   "id": "bdb31c93",
   "metadata": {},
   "source": [
    "Here, we look at the partial dependence of the two features, which tells us the effect of the features on the predicted outcome of the model (probability of a goal). We can see that as the shot is from further away, this probability decreases. Also, as the shot is further from the center and more towards the boards, this also decreases the probability. According to this model, the ideal shot location is from close and center to the net which is exactly what we expect from extremely conventional hockey knowledge."
   ]
  },
  {
   "cell_type": "markdown",
   "id": "0d382a9b",
   "metadata": {},
   "source": [
    "This is looking at the total \"expected goals\" according to the money puck data. This is done by summing the probability of xGoal for every shot."
   ]
  },
  {
   "cell_type": "code",
   "execution_count": null,
   "id": "abb37084",
   "metadata": {},
   "outputs": [],
   "source": [
    "'''\n",
    "use col 'shooterName' to find who had highest xGoal last year (to compare my model against)\n",
    "'''\n",
    "\n",
    "# group by 'shooterName' and sum up 'xGoal' values\n",
    "grouped = df.groupby('shooterName')['xGoal'].sum()\n",
    "\n",
    "# sort the grouped series in descending order\n",
    "sorted_grouped = grouped.sort_values(ascending=False)\n",
    "\n",
    "# print out the top 30 shooterName values and their cumulative xGoal\n",
    "top_30 = sorted_grouped.head(20)\n",
    "\n",
    "print('PLAYER                              xGOALS (MP)')\n",
    "print('-------------------------------------------------')\n",
    "for shooter, xGoal in top_30.items():\n",
    "    print('{:<25}  {:>15}'.format(shooter, round(xGoal,3)))"
   ]
  },
  {
   "cell_type": "markdown",
   "id": "6033c138",
   "metadata": {},
   "source": [
    "It is interesting that Zach Hyman and Brady Tkachuk lead in expected goals, outperforming noted exceptional goal scorers such as McDavid, Pastrnak, Matthews, Ovechkin, and Draisaitl. Brady and Hyman both play similar styles where they like to stay around close to the net and jam at pucks. This could result in a higher expected goals than actual goals."
   ]
  },
  {
   "cell_type": "code",
   "execution_count": null,
   "id": "828ec5a4",
   "metadata": {},
   "outputs": [],
   "source": [
    "grouped = df.groupby('shooterName').agg({'xGoal': 'sum', 'goal': 'sum', 'shotGeneratedRebound': 'sum' , 'shooterName': 'count'})\n",
    "grouped['goal_residual'] = grouped['goal'] - grouped['xGoal'] # add new col that is total goals - xgoals\n",
    "\n",
    "# plt.figure(dpi = 150)\n",
    "# plt.title('MP Model')\n",
    "# plt.xlabel('Goals - xGoals')\n",
    "# plt.hist(grouped.goal_residual,bins = 80,edgecolor='black')\n",
    "# plt.show()\n",
    "\n",
    "\n",
    "# print biggest discrepencies between goals and xgoals\n",
    "sorted_grouped = grouped.sort_values(by='goal_residual', ascending=True)\n",
    "\n",
    "# print out the top 30 shooterName values, their cumulative xGoal, and sum of 'goal'\n",
    "print('shooterName             MP: cumulative xGoal    Goals - xGoals')\n",
    "print('------------------------------------------------------------')\n",
    "for index, row in sorted_grouped.head(20).iterrows():\n",
    "    print('{:<25}  {:>15}  {:>15}'.format(index, round(row['xGoal'],3), round(row['goal_residual'],3)))\n",
    "    \n",
    "print()\n",
    "    \n",
    "print('shooterName             MP: cumulative xGoal    Goals - xGoals')\n",
    "print('------------------------------------------------------------')\n",
    "for index, row in sorted_grouped.tail(20)[::-1].iterrows():\n",
    "    print('{:<25}  {:>15}  {:>15}'.format(index, round(row['xGoal'],3), round(row['goal_residual'],3)))"
   ]
  },
  {
   "cell_type": "markdown",
   "id": "93084e1d",
   "metadata": {},
   "source": [
    "Here we see the largest discrepancies between expected and actual goals, both ways. Different discrepancies could be for different reasons. I will comment on the 2 Sens players in the top 4. I am just guessing, but I think Brady Tkachuk plays a game style that will naturally result in a very high expected number of goals. Whereas Batherson did seem to be rather \"snake-bitten\" or \"unlucky\" this season."
   ]
  },
  {
   "cell_type": "code",
   "execution_count": null,
   "id": "4f6fd14e",
   "metadata": {},
   "outputs": [],
   "source": [
    "'''\n",
    "add the calculated xgoal to the dataframe and compare\n",
    "'''\n",
    "\n",
    "df['pred_xgoal'] = pred_xgoal\n",
    "\n",
    "# for col in df.keys():print('{:<50}  {:>50}'.format(col , df[col][0]))\n",
    "\n",
    "grouped_pred = df.groupby('shooterName').agg({'xGoal': 'sum', 'goal': 'sum', 'pred_xgoal': 'sum'})\n",
    "grouped_pred['goal_residual'] = grouped_pred['goal'] - grouped_pred['xGoal']\n",
    "grouped_pred['pred_goal_residual'] = grouped_pred['goal'] - grouped_pred['pred_xgoal'] # add new col that is total goals - xgoals\n",
    "grouped_pred['residual_difference'] = grouped_pred['pred_goal_residual'] - grouped_pred['goal_residual']    \n",
    "    \n",
    "# print biggest discrepencies between goals and xgoals\n",
    "sorted_grouped_pred = grouped_pred.sort_values(by='pred_goal_residual', ascending=True)\n",
    "\n",
    "# print out the top 30 shooterName values, their cumulative xGoal, and sum of 'goal'\n",
    "print('shooterName             AG: cumulative xGoal    Goals - xGoals')\n",
    "print('------------------------------------------------------------')\n",
    "for index, row in sorted_grouped_pred.head(20).iterrows():\n",
    "    print('{:<25}  {:>15}  {:>15}'.format(index, round(row['pred_xgoal'],3), round(row['pred_goal_residual'],3)))\n",
    "    \n",
    "print()\n",
    "    \n",
    "print('shooterName             AG: cumulative xGoal    Goals - xGoals')\n",
    "print('------------------------------------------------------------')\n",
    "for index, row in sorted_grouped_pred.tail(20)[::-1].iterrows():\n",
    "    print('{:<25}  {:>15}  {:>15}'.format(index, round(row['pred_xgoal'],3), round(row['pred_goal_residual'],3)))"
   ]
  },
  {
   "cell_type": "code",
   "execution_count": null,
   "id": "8e0a64b3",
   "metadata": {},
   "outputs": [],
   "source": [
    "'''\n",
    "scatter plot of results\n",
    "'''\n",
    "plt.figure(figsize=(10, 8),dpi = 150)\n",
    "# plt.scatter(top_bottom_df['goal'], top_bottom_df['pred_xgoal'], label=top_bottom_df['last_name'])\n",
    "\n",
    "for index, row in sorted_grouped_pred.head(20).iterrows():\n",
    "    plt.scatter(row['goal'],row['pred_xgoal'],s = 50, c = 'k')\n",
    "    plt.annotate(index.split()[0][0] + ' ' + index.split()[1], (row['goal'], row['pred_xgoal']), textcoords=\"offset points\", xytext=(0,10), ha='center')\n",
    "    \n",
    "for index, row in sorted_grouped_pred.tail(20)[::-1].iterrows():\n",
    "    plt.scatter(row['goal'],row['pred_xgoal'],s = 50, c = 'r')\n",
    "    plt.annotate(index.split()[0][0] + ' ' + index.split()[1], (row['goal'], row['pred_xgoal']), textcoords=\"offset points\", xytext=(0,10), ha='center')\n",
    "\n",
    "# add labels and title\n",
    "plt.xlabel('Total Goals')\n",
    "plt.ylabel('Total Expected Goals')\n",
    "plt.title('Scatter Plot of Goal vs. Predicted xGoal')\n",
    "plt.show()"
   ]
  },
  {
   "cell_type": "markdown",
   "id": "2078854d",
   "metadata": {},
   "source": [
    "Now for the results of my model using just shot distance and (the absolute value of) shot angle. Hyman and Brady Tkachuk still have their expected goals overestimated. Trochek underperformns the model the most. Draisaitl, Pastrnak, and Mcdavid still have their expected goals underestimated. Overall, my model performs similarly to the MoneyPuck model for this dataset, but is much more simple. Jared McCann is a player that stands out with 21 more goals scored than expected, and is among superstar players. This plot was the most extreme discrepancies between the expected goals and actual goals. Players with more expected goals are in black, players with more actual goals are in red. The clustering is due to me selecting the outliers for the model.\n",
    "\n",
    "Below is both entire datasets plotted."
   ]
  },
  {
   "cell_type": "code",
   "execution_count": null,
   "id": "30933f6c",
   "metadata": {},
   "outputs": [],
   "source": [
    "plt.figure(figsize=(6, 4),dpi = 150)\n",
    "# plt.scatter(top_bottom_df['goal'], top_bottom_df['pred_xgoal'], label=top_bottom_df['last_name'])\n",
    "\n",
    "for index, row in sorted_grouped_pred.iterrows():\n",
    "    plt.scatter(row['goal'],row['pred_xgoal'],s = 10, c = 'k', label = 'AG',alpha = 0.6)\n",
    "#     plt.annotate(index.split()[0][0] + ' ' + index.split()[1], (row['goal'], row['pred_xgoal']), textcoords=\"offset points\", xytext=(0,10), ha='center')\n",
    "    \n",
    "for index, row in sorted_grouped.iterrows():\n",
    "    plt.scatter(row['goal'],row['xGoal'],s = 10, c = 'r', label = 'MP',alpha = 0.6)\n",
    "    \n",
    "# add labels and title\n",
    "plt.xlabel('Total Goals')\n",
    "plt.ylabel('Total Expected Goals')\n",
    "plt.title('Scatter Plot of Goal vs. Predicted xGoal: Entire Dataset')\n",
    "# plt.legend()\n",
    "plt.show()"
   ]
  },
  {
   "cell_type": "code",
   "execution_count": null,
   "id": "170a9ce3",
   "metadata": {},
   "outputs": [],
   "source": [
    "plt.figure(dpi = 150)\n",
    "plt.title('Comparing models')\n",
    "plt.xlabel('Goals - xGoals')\n",
    "plt.hist(sorted_grouped_pred.pred_goal_residual,bins = 80,edgecolor='black',histtype = 'step',label = 'AG')\n",
    "plt.hist(grouped.goal_residual,bins = 80,edgecolor='red',histtype = 'step',label = 'MP')\n",
    "plt.legend()\n",
    "plt.show()"
   ]
  },
  {
   "cell_type": "markdown",
   "id": "ca32a18a",
   "metadata": {},
   "source": [
    "Here we compare the spread of the discrepancies between goals and expected goals, of my model (black line), versus the MoneyPuck model (red line). We can see that the distributions are similar."
   ]
  },
  {
   "cell_type": "code",
   "execution_count": null,
   "id": "da53b908",
   "metadata": {},
   "outputs": [],
   "source": [
    "stats_mp = stats.describe(sorted_grouped_pred['goal_residual'])\n",
    "stats_ag = stats.describe(sorted_grouped_pred['pred_goal_residual'])\n",
    "\n",
    "print(stats_mp)\n",
    "print(stats_ag)\n",
    "print()\n",
    "print('STATS:')\n",
    "print('          MP          AG')\n",
    "print('Mean:  ',round(np.mean(sorted_grouped_pred['goal_residual']),5),round(np.mean(sorted_grouped_pred['pred_goal_residual']),5))\n",
    "print('Stddev: ',round(np.std(sorted_grouped_pred['goal_residual'],ddof = 1),5),round(np.std(sorted_grouped_pred['pred_goal_residual'],ddof = 1),5))"
   ]
  },
  {
   "cell_type": "markdown",
   "id": "d5038e38",
   "metadata": {},
   "source": [
    "## DISCUSSION\n",
    "\n",
    "Overall, my model and the MoneyPuck model seem to perform similarly.\n",
    "\n",
    "What I find interesting is that it seems that the better players tend to have less expected goals versus actual goals, with that list including Leon Draisaitl, David Pastrnak, Connor McDavid , Mikko Rantanen, and Tage Thompson as the leaders, all of which who are superstars. Jared McCann is also in that list, and personally I would not include him as a superstar so it is interesting that he scored 22 goals more than expected. We did not gain much new information from this analysis, other than potentially making predictions about the outlier players (such as McCann). This does involve prior knowledge about these players.\n",
    "\n",
    "Another way these results could be interpreted is as the difference between goals and expected goals is an indicator of that players \"finishing ability\". Where a negative value of Goals - XGoals indicates a better efficiency with finish goals. For example, Draisaitl's actual goals is almost double his expected goals, but I would not say for a second that this is due to luck. I am very certain that this is due to his ability to finish shots that most other players would not finish. Whereas players like Hyman who like to jam it into the pads, may not be as efficient. Young players such as Seth Jarvis might show that they are generating chances, and will become goal scorers in the future.\n",
    "\n",
    "\n",
    "After this analysis, I have two predictions for the 2023-24 season:\n",
    "\n",
    "1. Seth Jarvis will see an increase in goal production, and score 30 or more goals.\n",
    "2. Jared McCann will regress and score 25 or less goals."
   ]
  },
  {
   "cell_type": "markdown",
   "id": "39f51c7a",
   "metadata": {},
   "source": [
    "## NEXT STEPS:\n",
    "\n",
    "- include more features such as:\n",
    "    - shotType: Type of the shot. (Slap, Wrist, etc)\n",
    "    - shotRebound: Set to 1 if the shot is a rebound. (If the last event was a shot and within 3 seconds of this shot)\n",
    "    - shotRush: Set to 1 if the shot was on a rush. (If the last event was in another zone and within 4 seconds)\n",
    "    - homeSkatersOnIce The number of skaters on the ice for the home team. Does not count the goalie\n",
    "    - awaySkatersOnIce The number of skaters on the ice for the away team. Does not count the goalie\n",
    "    \n",
    "For categroical variables such as shotType, a One-Hot encoder can be used.\n",
    "\n",
    "Trends from year to year can be used along with the player's age to predict how many goals they will score next year.\n",
    "\n",
    "Use different regression methods and libraries, such as PyTorch, see if there is a difference."
   ]
  }
 ],
 "metadata": {
  "kernelspec": {
   "display_name": "Python 3 (Spyder)",
   "language": "python3",
   "name": "python3"
  },
  "language_info": {
   "codemirror_mode": {
    "name": "ipython",
    "version": 3
   },
   "file_extension": ".py",
   "mimetype": "text/x-python",
   "name": "python",
   "nbconvert_exporter": "python",
   "pygments_lexer": "ipython3",
   "version": "3.10.10"
  }
 },
 "nbformat": 4,
 "nbformat_minor": 5
}

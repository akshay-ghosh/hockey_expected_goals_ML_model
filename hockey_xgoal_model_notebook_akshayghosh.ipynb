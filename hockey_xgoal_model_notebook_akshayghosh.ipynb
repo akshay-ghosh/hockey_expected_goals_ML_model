{
 "cells": [
  {
   "cell_type": "code",
   "execution_count": 1,
   "id": "afdd792a",
   "metadata": {},
   "outputs": [],
   "source": [
    "%matplotlib inline\n",
    "# IMPORTS\n",
    "\n",
    "import numpy as np\n",
    "import pandas as pd\n",
    "import matplotlib.pyplot as plt\n",
    "import scipy.stats as stats\n",
    "\n",
    "# KDE stuff\n",
    "# from sklearn.neighbors import KernelDensity\n",
    "# from sklearn.model_selection import GridSearchCV\n",
    "# from sklearn.model_selection import LeaveOneOut\n",
    "\n",
    "# from sklearn.ensemble import RandomForestRegressor\n",
    "from sklearn.metrics import mean_absolute_error\n",
    "from sklearn.model_selection import train_test_split\n",
    "\n",
    "from xgboost import XGBRegressor\n",
    "\n",
    "# import eli5\n",
    "# from eli5.sklearn import PermutationImportance\n",
    "\n",
    "# import graphviz\n",
    "# from sklearn import tree\n",
    "# from sklearn.inspection import PartialDependenceDisplay"
   ]
  },
  {
   "cell_type": "markdown",
   "id": "ff09c437",
   "metadata": {},
   "source": [
    "First we import the shot data for the 2022-23 NHL season. The data is from moneypuck.com. Each row corresponds to one shot taken during the season, so all shots are included. The dataframe has been modified to include the defending team, and \"real game ID\". All of the column names can be printed along with their first value to get an idea of what the data looks like. All rows corresponding to playoff games and shots against empty nets are removed."
   ]
  },
  {
   "cell_type": "code",
   "execution_count": 2,
   "id": "437bc7e8",
   "metadata": {},
   "outputs": [],
   "source": [
    "# DATA\n",
    "\n",
    "fn = '/Users/akshayghosh/hockey/hockey_kde/data/shots_2022_modified.csv'\n",
    "\n",
    "df = pd.read_csv(fn)\n",
    "df.describe()\n",
    "  \n",
    "# for col in df.keys():print('{:<50}  {:>50}'.format(col , df[col][0]))\n",
    "    \n",
    "df = df[df['isPlayoffGame'] == 0] # select only regular season\n",
    "df = df[df['shotOnEmptyNet'] == 0] # discard shots on empty nets"
   ]
  },
  {
   "cell_type": "markdown",
   "id": "ef465d70",
   "metadata": {},
   "source": [
    "The target variable to predict (aka the label) is xGoal, which is the probability of that shot resulting in a goal by MoneyPuck. Right now the features are very simple, just the distance and absolute value of the shot angle. My initial goal was to make my model as simple as possible, and possibly add more features later. I believe that the most important factors in the quality of a shot are the distance and angle, where closer and towards the middle is the ideal shot location.\n",
    "\n",
    "The MoneyPuck model is explained here: https://moneypuck.com/about.htm#shotModel\n",
    "And is as follows (from their website):\n",
    "\n",
    "Shot Prediction Expected Goals Model\n",
    "\n",
    "\"This model predicts the probability of each shot being a goal. Factors such as the distance from the net, angle of the shot, type of shot, and what happened before the shot are key factors in the model. This model was built on over 50,000 goals and 800,000 shots in NHL regular season and playoff games from the 2007-2008 to 2014-2015 season with location data. By adding up all the probabilities of a team's shots during a game, we can calculate the team's expected goals in that game. The model was built using gradient boosting. MoneyPuck's expected goals model uses a different variable strategy than other expected goals like from Corsica Hockey or HockeyGraphs.com. The MoneyPuck expected goals model does not explicitly use variables for rebounds or rush shots. Rather, it looks at the 'speed' between events: The distance on the ice between the shot and the event before it divided by the amount of time that's elapsed. Also, for rebound shots the model looks at the change in angle between the shots divided by the amount of time between the two shots. The illustrations below describe how the speed variables are created.\""
   ]
  },
  {
   "cell_type": "code",
   "execution_count": 3,
   "id": "531850cb",
   "metadata": {},
   "outputs": [],
   "source": [
    "'''\n",
    "set up features and labels\n",
    "\n",
    "want to predict: xGoal\n",
    "features to use: []\n",
    "'''\n",
    "\n",
    "y = df.xGoal\n",
    "\n",
    "features = ['shotDistance','shotAngleAdjusted']\n",
    "X = df[features]\n",
    "\n",
    "# split into training and validation\n",
    "X_train, X_val, y_train, y_val = train_test_split(X, y, test_size=0.2, random_state=42)"
   ]
  },
  {
   "cell_type": "markdown",
   "id": "bfc44bc5",
   "metadata": {},
   "source": [
    "This is where we set up the model, using a gradient boost. You can also see the Random Forest Regressor which I previously used. The mean absolute error is printed. The predictions of goal probability are applied to all rows, to compare against the moneypuck probabilities."
   ]
  },
  {
   "cell_type": "code",
   "execution_count": null,
   "id": "aaec8ffe",
   "metadata": {},
   "outputs": [],
   "source": [
    "# PREDICT XGOAL\n",
    "\n",
    "# forest_model = RandomForestRegressor(random_state = 1)# define model\n",
    "\n",
    "forest_model = XGBRegressor(n_estimators=1000, learning_rate=0.05, n_jobs=4)\n",
    "\n",
    "forest_model.fit(X_train, y_train) # fit with training data\n",
    "# forest_model.fit(X, y) # fit with training data\n",
    "# pred_xgoal = forest_model.predict(X_val) # make prediction with val data\n",
    "pred_xgoal = forest_model.predict(X) # make prediction with ALL data\n",
    "\n",
    "MAE = mean_absolute_error(pred_xgoal, y)\n",
    "print(f'MAE = {round(MAE,4)}')\n",
    "\n",
    "# print(np.shape(pred_xgoal))\n",
    "# print(np.shape(y))"
   ]
  },
  {
   "cell_type": "markdown",
   "id": "0d9816f2",
   "metadata": {},
   "source": [
    "This is looking at the total \"expected goals\" according to the money puck data. This is done by summing the probability of xGoal for every shot."
   ]
  },
  {
   "cell_type": "code",
   "execution_count": null,
   "id": "4ae2b573",
   "metadata": {},
   "outputs": [],
   "source": [
    "'''\n",
    "use col 'shooterName' to find who had highest xGoal last year (to compare my model against)\n",
    "'''\n",
    "\n",
    "# group by 'shooterName' and sum up 'xGoal' values\n",
    "grouped = df.groupby('shooterName')['xGoal'].sum()\n",
    "\n",
    "# sort the grouped series in descending order\n",
    "sorted_grouped = grouped.sort_values(ascending=False)\n",
    "\n",
    "# print out the top 30 shooterName values and their cumulative xGoal\n",
    "top_30 = sorted_grouped.head(20)\n",
    "\n",
    "print('PLAYER                              xGOALS (MP)')\n",
    "print('-------------------------------------------------')\n",
    "for shooter, xGoal in top_30.items():\n",
    "    print('{:<25}  {:>15}'.format(shooter, round(xGoal,3)))"
   ]
  },
  {
   "cell_type": "markdown",
   "id": "9e9eb16c",
   "metadata": {},
   "source": [
    "It is interesting that Zach Hyman and Brady Tkachuk lead in expected goals, outperforming noted exceptional goal scorers such as McDavid, Pastrnak, Matthews, Ovechkin, and Draisaitl. Brady and Hyman both play similar styles where they like to stay around close to the net and jam at pucks. This could result in a higher expected goals than actual goals."
   ]
  },
  {
   "cell_type": "code",
   "execution_count": null,
   "id": "aa3334b5",
   "metadata": {},
   "outputs": [],
   "source": [
    "grouped = df.groupby('shooterName').agg({'xGoal': 'sum', 'goal': 'sum', 'shotGeneratedRebound': 'sum' , 'shooterName': 'count'})\n",
    "grouped['goal_residual'] = grouped['goal'] - grouped['xGoal'] # add new col that is total goals - xgoals\n",
    "\n",
    "# plt.figure(dpi = 150)\n",
    "# plt.title('MP Model')\n",
    "# plt.xlabel('Goals - xGoals')\n",
    "# plt.hist(grouped.goal_residual,bins = 80,edgecolor='black')\n",
    "# plt.show()\n",
    "\n",
    "\n",
    "# print biggest discrepencies between goals and xgoals\n",
    "sorted_grouped = grouped.sort_values(by='goal_residual', ascending=True)\n",
    "\n",
    "# print out the top 30 shooterName values, their cumulative xGoal, and sum of 'goal'\n",
    "print('shooterName             MP: cumulative xGoal    Goals - xGoals')\n",
    "print('------------------------------------------------------------')\n",
    "for index, row in sorted_grouped.head(20).iterrows():\n",
    "    print('{:<25}  {:>15}  {:>15}'.format(index, round(row['xGoal'],3), round(row['goal_residual'],3)))\n",
    "    \n",
    "print()\n",
    "    \n",
    "print('shooterName             MP: cumulative xGoal    Goals - xGoals')\n",
    "print('------------------------------------------------------------')\n",
    "for index, row in sorted_grouped.tail(20)[::-1].iterrows():\n",
    "    print('{:<25}  {:>15}  {:>15}'.format(index, round(row['xGoal'],3), round(row['goal_residual'],3)))"
   ]
  },
  {
   "cell_type": "markdown",
   "id": "16188287",
   "metadata": {},
   "source": [
    "Here we see the largest discrepancies between expected and actual goals, both ways. Different discrepancies could be for different reasons. I will comment on the 2 Sens players in the top 4. I am just guessing, but I think Brady Tkachuk plays a game style that will naturally result in a very high expected number of goals. Whereas Batherson did seem to be rather \"snake-bitten\" or \"unlucky\" this season."
   ]
  },
  {
   "cell_type": "code",
   "execution_count": null,
   "id": "247fe058",
   "metadata": {},
   "outputs": [],
   "source": [
    "'''\n",
    "add the calculated xgoal to the dataframe and compare\n",
    "'''\n",
    "\n",
    "df['pred_xgoal'] = pred_xgoal\n",
    "\n",
    "# for col in df.keys():print('{:<50}  {:>50}'.format(col , df[col][0]))\n",
    "\n",
    "grouped_pred = df.groupby('shooterName').agg({'xGoal': 'sum', 'goal': 'sum', 'pred_xgoal': 'sum'})\n",
    "grouped_pred['goal_residual'] = grouped_pred['goal'] - grouped_pred['xGoal']\n",
    "grouped_pred['pred_goal_residual'] = grouped_pred['goal'] - grouped_pred['pred_xgoal'] # add new col that is total goals - xgoals\n",
    "grouped_pred['residual_difference'] = grouped_pred['pred_goal_residual'] - grouped_pred['goal_residual']    \n",
    "    \n",
    "# print biggest discrepencies between goals and xgoals\n",
    "sorted_grouped_pred = grouped_pred.sort_values(by='pred_goal_residual', ascending=True)\n",
    "\n",
    "# print out the top 30 shooterName values, their cumulative xGoal, and sum of 'goal'\n",
    "print('shooterName             AG: cumulative xGoal    Goals - xGoals')\n",
    "print('------------------------------------------------------------')\n",
    "for index, row in sorted_grouped_pred.head(20).iterrows():\n",
    "    print('{:<25}  {:>15}  {:>15}'.format(index, round(row['pred_xgoal'],3), round(row['pred_goal_residual'],3)))\n",
    "    \n",
    "print()\n",
    "    \n",
    "print('shooterName             AG: cumulative xGoal    Goals - xGoals')\n",
    "print('------------------------------------------------------------')\n",
    "for index, row in sorted_grouped_pred.tail(20)[::-1].iterrows():\n",
    "    print('{:<25}  {:>15}  {:>15}'.format(index, round(row['pred_xgoal'],3), round(row['pred_goal_residual'],3)))"
   ]
  },
  {
   "cell_type": "markdown",
   "id": "0be8ecc9",
   "metadata": {},
   "source": [
    "Now for the results of my model using just shot distance and (the absolute value of) shot angle. Hyman and Brady Tkachuk still have their expected goals overestimated. Draisaitl, Pastrnak, and Mcdavid still have their expected goals underestimated. Overall, my model performs similarly to the MoneyPuck model for this dataset, but is much more simple. Jared McCann is a player that stands out with 22 more goals scored than expected, and is among superstar players."
   ]
  },
  {
   "cell_type": "code",
   "execution_count": null,
   "id": "74014be5",
   "metadata": {},
   "outputs": [],
   "source": [
    "plt.figure(dpi = 150)\n",
    "plt.title('Comparing models')\n",
    "plt.xlabel('Goals - xGoals')\n",
    "plt.hist(sorted_grouped_pred.pred_goal_residual,bins = 80,edgecolor='black',histtype = 'step',label = 'AG')\n",
    "plt.hist(grouped.goal_residual,bins = 80,edgecolor='red',histtype = 'step',label = 'MP')\n",
    "plt.legend()\n",
    "plt.show()"
   ]
  },
  {
   "cell_type": "markdown",
   "id": "53e57821",
   "metadata": {},
   "source": [
    "Here we compare the spread of the discrepancies between goals and expected goals, of my model (black line), versus the MoneyPuck model (red line). We can see that the distributions are similar."
   ]
  },
  {
   "cell_type": "code",
   "execution_count": null,
   "id": "989dd2e7",
   "metadata": {},
   "outputs": [],
   "source": [
    "stats_mp = stats.describe(sorted_grouped_pred['goal_residual'])\n",
    "stats_ag = stats.describe(sorted_grouped_pred['pred_goal_residual'])\n",
    "\n",
    "print(stats_mp)\n",
    "print(stats_ag)\n",
    "print()\n",
    "print('STATS:')\n",
    "print('          MP          AG')\n",
    "print('Mean:  ',round(np.mean(sorted_grouped_pred['goal_residual']),5),round(np.mean(sorted_grouped_pred['pred_goal_residual']),5))\n",
    "print('Stddev: ',round(np.std(sorted_grouped_pred['goal_residual'],ddof = 1),5),round(np.std(sorted_grouped_pred['pred_goal_residual'],ddof = 1),5))"
   ]
  },
  {
   "cell_type": "markdown",
   "id": "744b037d",
   "metadata": {},
   "source": [
    "## FINAL NOTES\n",
    "\n",
    "Overall, my model and the MoneyPuck model perform similarly.\n",
    "\n",
    "What I find interesting is that it seems that the better players tend to have less expected goals versus actual goals, with that list including Leon Draisaitl, David Pastrnak, Connor McDavid , Mikko Rantanen, and Tage Thompson as the leaders, all of which who are superstars. Jared McCann is also in that list, and personally I would not include him as a superstar so it is interesting that he scored 22 goals more than expected. We did not gain much new information from this analysis, other than potentially making predictions about the outlier players (such as McCann). This does involve prior knowledge about these players.\n",
    "\n",
    "\n",
    "After this analysis, I have two predictions for the 2023-24 season:\n",
    "\n",
    "1. Seth Jarvis will see an increase in goal production, and score 30 or more goals.\n",
    "2. Jared McCann will regress and score 20 or less goals."
   ]
  }
 ],
 "metadata": {
  "kernelspec": {
   "display_name": "Python 3 (Spyder)",
   "language": "python3",
   "name": "python3"
  },
  "language_info": {
   "codemirror_mode": {
    "name": "ipython",
    "version": 3
   },
   "file_extension": ".py",
   "mimetype": "text/x-python",
   "name": "python",
   "nbconvert_exporter": "python",
   "pygments_lexer": "ipython3",
   "version": "3.10.10"
  }
 },
 "nbformat": 4,
 "nbformat_minor": 5
}
